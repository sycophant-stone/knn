{
 "cells": [
  {
   "cell_type": "code",
   "execution_count": 6,
   "metadata": {},
   "outputs": [],
   "source": [
    "import random\n",
    "import numpy as np\n",
    "from cs231n.data_utils import load_CIFAR10\n",
    "import matplotlib.pyplot as plt"
   ]
  },
  {
   "cell_type": "code",
   "execution_count": 7,
   "metadata": {},
   "outputs": [
    {
     "name": "stdout",
     "output_type": "stream",
     "text": [
      "training data: (50000, 32, 32, 3)\n",
      "training label: (50000,)\n",
      "testing data: (10000, 32, 32, 3)\n",
      "testing label: (10000,)\n"
     ]
    }
   ],
   "source": [
    "cifar_path = 'cs231n/datasets/cifar-10-batches-py'\n",
    "x_train, y_train, x_test, y_test = load_CIFAR10(cifar_path)\n",
    "print(\"training data:\", x_train.shape)\n",
    "print(\"training label:\", y_train.shape)\n",
    "print(\"testing data:\", x_test.shape)\n",
    "print(\"testing label:\", y_test.shape)"
   ]
  },
  {
   "cell_type": "code",
   "execution_count": 12,
   "metadata": {},
   "outputs": [
    {
     "name": "stdout",
     "output_type": "stream",
     "text": [
      "idx [ 6688  3362   687 10334 35662]\n",
      "idx [19002  6955 45672 23832 47470]\n",
      "idx [47449 25822 15398  3339  4896]\n",
      "idx [48999 13446 31380 11236 46812]\n",
      "idx [ 1203 19568 31585 25674 19043]\n"
     ]
    }
   ],
   "source": [
    "## show train data topologies\n",
    "## plot 5 labels with 6 pictures\n",
    "\n",
    "data_class = ['plane', 'car', 'bird', 'cat', 'deer']\n",
    "num_class = len(data_class)\n",
    "for y, cls in enumerate(data_class):\n",
    "    idx = np.flatnonzero(y_train==y) # 找到和y同值的坐标集合.\n",
    "    #因为这个集合是很大的, 可以看到y_data是50000个label.我们不可能全部显示,只能显示部分.我们这里先显示5个.所以就从所有是y的label的集合中\n",
    "    #random出5个,重新组成一个精简的集合.\n",
    "    # np.random.choice 的param0是待被挑选的集合, param1是要挑出几个成员, param2是挑出的成员是否还放回之前的原集合中,false是不放回..\n",
    "    idx = np.random.choice(idx, 5, replace=False)\n",
    "    print(\"idx\",idx)\n",
    "\n",
    "\n",
    "## show train data topologies\n",
    "## plot 10 labels with 10 pictures\n"
   ]
  },
  {
   "cell_type": "code",
   "execution_count": 17,
   "metadata": {},
   "outputs": [
    {
     "name": "stdout",
     "output_type": "stream",
     "text": [
      "y,cls 0\n",
      "cls plane\n",
      "axi_x 1\n",
      "axi_x 6\n",
      "axi_x 11\n",
      "axi_x 16\n",
      "axi_x 21\n",
      "y,cls 1\n",
      "cls car\n",
      "axi_x 1\n",
      "axi_x 6\n",
      "axi_x 11\n",
      "axi_x 16\n",
      "axi_x 21\n",
      "y,cls 2\n",
      "cls bird\n",
      "axi_x 1\n",
      "axi_x 6\n",
      "axi_x 11\n",
      "axi_x 16\n",
      "axi_x 21\n",
      "y,cls 3\n",
      "cls cat\n",
      "axi_x 1\n",
      "axi_x 6\n",
      "axi_x 11\n",
      "axi_x 16\n",
      "axi_x 21\n",
      "y,cls 4\n",
      "cls deer\n",
      "axi_x 1\n",
      "axi_x 6\n",
      "axi_x 11\n",
      "axi_x 16\n",
      "axi_x 21\n"
     ]
    },
    {
     "name": "stderr",
     "output_type": "stream",
     "text": [
      "/usr/local/miniconda3/envs/dl/lib/python3.5/site-packages/matplotlib/cbook/deprecation.py:107: MatplotlibDeprecationWarning: Adding an axes using the same arguments as a previous axes currently reuses the earlier instance.  In a future version, a new instance will always be created and returned.  Meanwhile, this warning can be suppressed, and the future behavior ensured, by passing a unique label to each axes instance.\n",
      "  warnings.warn(message, mplDeprecation, stacklevel=1)\n"
     ]
    },
    {
     "data": {
      "image/png": "[encoded data removed]",
      "text/plain": [
       "<Figure size 432x288 with 5 Axes>"
      ]
     },
     "metadata": {},
     "output_type": "display_data"
    }
   ],
   "source": [
    "## show train data topologies\n",
    "## plot 5 labels with 6 pictures\n",
    "\n",
    "data_class = ['plane', 'car', 'bird', 'cat', 'deer']\n",
    "num_class = len(data_class)\n",
    "for y, cls in enumerate(data_class):\n",
    "    idx = np.flatnonzero(y_train==y) # 找到和y同值的坐标集合.\n",
    "    #因为这个集合是很大的, 可以看到y_data是50000个label.我们不可能全部显示,只能显示部分.我们这里先显示5个.所以就从所有是y的label的集合中\n",
    "    #random出5个,重新组成一个精简的集合.\n",
    "    # np.random.choice 的param0是待被挑选的集合, param1是要挑出几个成员, param2是挑出的成员是否还放回之前的原集合中,false是不放回..\n",
    "    idx = np.random.choice(idx, 5, replace=False)\n",
    "    #print(\"idx\",idx)\n",
    "    #想办法把上面的index集合从图上显示出来.\n",
    "    print(\"y,cls\",y)\n",
    "    print(\"cls\",cls)\n",
    "    for i, val_index in enumerate(idx):\n",
    "        #print(\"i\",i)\n",
    "        #print(\"val_index\",val_index)\n",
    "        axi_x = i * num_class + 1+y\n",
    "        print(\"axi_x\",axi_x)\n",
    "        ##plt.subplot(2,1,1)， 表示创建一个2行，1列的图，p1为第一个子图\n",
    "        plt.subplot(5, num_class, axi_x)\n",
    "        plt.imshow(x_train[val_index].astype('uint8'))\n",
    "        plt.axis('off')\n",
    "        if i == 0:\n",
    "            plt.title(cls)\n",
    "plt.show()\n",
    "## show train data topologies\n",
    "## plot 10 labels with 10 pictures"
   ]
  }
 ],
 "metadata": {
  "kernelspec": {
   "display_name": "Python 3",
   "language": "python",
   "name": "python3"
  },
  "language_info": {
   "codemirror_mode": {
    "name": "ipython",
    "version": 3
   },
   "file_extension": ".py",
   "mimetype": "text/x-python",
   "name": "python",
   "nbconvert_exporter": "python",
   "pygments_lexer": "ipython3",
   "version": "3.5.5"
  }
 },
 "nbformat": 4,
 "nbformat_minor": 2
}
